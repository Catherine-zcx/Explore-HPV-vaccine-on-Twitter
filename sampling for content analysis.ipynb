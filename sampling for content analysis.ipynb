{
 "cells": [
  {
   "cell_type": "code",
   "execution_count": 1,
   "metadata": {},
   "outputs": [],
   "source": [
    "import pandas as pd\n",
    "df = pd.read_csv('hpv&emotion(no dup).csv')"
   ]
  },
  {
   "cell_type": "code",
   "execution_count": 2,
   "metadata": {},
   "outputs": [],
   "source": [
    "from sklearn.utils import shuffle\n",
    "df1 = df[df['retweet_count'] == 0]\n",
    "df1 = shuffle(df1)"
   ]
  },
  {
   "cell_type": "code",
   "execution_count": 4,
   "metadata": {},
   "outputs": [],
   "source": [
    "df2 = df[df['retweet_count'] > 0 ]\n",
    "df2 = df2[df2['retweet_count'] <= 20 ]\n",
    "df2 = shuffle(df2)"
   ]
  },
  {
   "cell_type": "code",
   "execution_count": 5,
   "metadata": {},
   "outputs": [],
   "source": [
    "df3 = df[df['retweet_count'] >20 ]\n",
    "df3 = df3[df3['retweet_count'] <= 40 ]\n",
    "df3 = shuffle(df3)"
   ]
  },
  {
   "cell_type": "code",
   "execution_count": 6,
   "metadata": {},
   "outputs": [],
   "source": [
    "df4 = df[df['retweet_count'] >40 ]\n",
    "df4 = df4[df4['retweet_count'] <= 60 ]\n",
    "df4 = shuffle(df4)"
   ]
  },
  {
   "cell_type": "code",
   "execution_count": 7,
   "metadata": {},
   "outputs": [],
   "source": [
    "df5 = df[df['retweet_count'] >60 ]\n",
    "df5 = df5[df5['retweet_count'] <= 80 ]\n",
    "df5 = shuffle(df5)"
   ]
  },
  {
   "cell_type": "code",
   "execution_count": 8,
   "metadata": {},
   "outputs": [],
   "source": [
    "df6 = df[df['retweet_count'] >80 ]\n",
    "df6 = shuffle(df6)"
   ]
  },
  {
   "cell_type": "code",
   "execution_count": 303,
   "metadata": {},
   "outputs": [],
   "source": [
    "df1 = df1.head(510)\n",
    "df2 = df2.tail(205)\n",
    "df3 = df3.head(14)\n",
    "df4 = df4.head(7)\n",
    "df5 = df5.head(4)\n",
    "df6 = df6.head(10)"
   ]
  },
  {
   "cell_type": "code",
   "execution_count": 9,
   "metadata": {},
   "outputs": [],
   "source": [
    "df_sample = df1.append([df2, df3,df4,df5,df6])"
   ]
  },
  {
   "cell_type": "code",
   "execution_count": 10,
   "metadata": {},
   "outputs": [],
   "source": [
    "df_veri = df_sample[df_sample['verified']== True]"
   ]
  },
  {
   "cell_type": "code",
   "execution_count": 11,
   "metadata": {},
   "outputs": [
    {
     "name": "stderr",
     "output_type": "stream",
     "text": [
      "//anaconda3/lib/python3.7/site-packages/xlsxwriter/worksheet.py:915: UserWarning: Ignoring URL 'https://t.co/AXDjGwAPj1\n",
      "\n",
      "Our%20own%20tribal%20people%20were%20used%20for%20clinical%20trial%20for%20HPV%20vaccine,%20making%20many%20girl%20sterile%20for%20life%20time%20and%20invovlement%20of%20many%20NGO%20which%20include%20Bill%20and%20Melinda%20Foundation%20cannot%20be%20ruled%20out.\n",
      "\n",
      "Why%20no%20interrogation%20is%20still…https://t.co/jNaE19i3zn' with link or location/anchor > 255 characters since it exceeds Excel's limit for URLS\n",
      "  force_unicode(url))\n"
     ]
    }
   ],
   "source": [
    "df_sample.to_excel('sample.xlsx')"
   ]
  },
  {
   "cell_type": "code",
   "execution_count": 12,
   "metadata": {},
   "outputs": [],
   "source": [
    "df_sample.to_csv('sample.csv')"
   ]
  },
  {
   "cell_type": "code",
   "execution_count": null,
   "metadata": {},
   "outputs": [],
   "source": []
  }
 ],
 "metadata": {
  "kernelspec": {
   "display_name": "Python 3",
   "language": "python",
   "name": "python3"
  },
  "language_info": {
   "codemirror_mode": {
    "name": "ipython",
    "version": 3
   },
   "file_extension": ".py",
   "mimetype": "text/x-python",
   "name": "python",
   "nbconvert_exporter": "python",
   "pygments_lexer": "ipython3",
   "version": "3.7.3"
  }
 },
 "nbformat": 4,
 "nbformat_minor": 2
}
